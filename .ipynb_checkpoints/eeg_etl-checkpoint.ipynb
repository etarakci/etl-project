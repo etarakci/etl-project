{
 "cells": [
  {
   "cell_type": "code",
   "execution_count": 25,
   "metadata": {},
   "outputs": [],
   "source": [
    "import scipy.io\n",
    "import pandas as pd\n",
    "import h5py\n",
    "import numpy as np"
   ]
  },
  {
   "cell_type": "markdown",
   "metadata": {},
   "source": [
    "### Export"
   ]
  },
  {
   "cell_type": "code",
   "execution_count": 56,
   "metadata": {},
   "outputs": [
    {
     "name": "stdout",
     "output_type": "stream",
     "text": [
      "sub-008_ses-02_task-meditation_events.tsv does not exist.\n",
      "sub-012_ses-02_task-meditation_events.tsv does not exist.\n",
      "sub-013_ses-02_task-meditation_events.tsv does not exist.\n",
      "sub-014_ses-02_task-meditation_events.tsv does not exist.\n",
      "sub-015_ses-02_task-meditation_events.tsv does not exist.\n",
      "sub-019_ses-02_task-meditation_events.tsv does not exist.\n",
      "sub-020_ses-02_task-meditation_events.tsv does not exist.\n",
      "sub-021_ses-02_task-meditation_events.tsv does not exist.\n",
      "sub-024_ses-02_task-meditation_events.tsv does not exist.\n",
      "Finished concatenating 39 sessions.\n"
     ]
    }
   ],
   "source": [
    "filepaths = []\n",
    "subject = 1\n",
    "session = 1\n",
    "missing = 0\n",
    "sub_total = 24 #24 is the default amount\n",
    "master_df = pd.DataFrame(columns=['onset', 'duration', 'trial_type', 'response_time', 'sample', 'value','subject_id','session'])\n",
    "\n",
    "# Loop through 24 subject and their 2 sessions to concatenation all data into single datafram: master_df.\n",
    "# List files not found and count total sessions concatenated.\n",
    "while subject <=sub_total:\n",
    "    if subject <10:\n",
    "        sub = '00' + str(subject)\n",
    "    else:\n",
    "        sub = '0' + str(subject)\n",
    "        \n",
    "    while session <=2: #there are max 2 sessions per subject\n",
    "        ses = '0' + str(session)\n",
    "        filepath = f'../ds001787-1.0.2/sub-{sub}/ses-{ses}/eeg/sub-{sub}_ses-{ses}_task-meditation_events.tsv'\n",
    "        try:\n",
    "            eeg_df = pd.read_csv(filepath, sep='\\t', header=0)\n",
    "        except:\n",
    "            print(filepath.split('/')[5],\"does not exist.\")\n",
    "            missing += 1\n",
    "        eeg_df['subject_id'] = [sub] * len(eeg_df)\n",
    "        eeg_df['session'] = [ses] *len(eeg_df)\n",
    "#         print(eeg_df.head(25))\n",
    "        master_df = pd.concat([master_df,eeg_df])\n",
    "        session+=1\n",
    "    subject += 1\n",
    "    session = 1\n",
    "total_ses = sub_total*2 - missing\n",
    "print(f\"Finished concatenating {total_ses} sessions.\")"
   ]
  },
  {
   "cell_type": "markdown",
   "metadata": {},
   "source": [
    "### Transform"
   ]
  },
  {
   "cell_type": "code",
   "execution_count": 57,
   "metadata": {},
   "outputs": [
    {
     "name": "stdout",
     "output_type": "stream",
     "text": [
      "  subject_id session       onset  duration trial_type  response_time   sample  \\\n",
      "0        001      01   71.386719       NaN   stimulus            NaN  18275.0   \n",
      "1        001      01   75.730469       NaN   response            NaN  19387.0   \n",
      "2        001      01   79.773438       NaN   response            NaN  20422.0   \n",
      "3        001      01  125.609375       NaN   stimulus            NaN  32156.0   \n",
      "4        001      01  179.800781       NaN   stimulus            NaN  46029.0   \n",
      "5        001      01  183.097656       NaN   response            NaN  46873.0   \n",
      "6        001      01  185.632812       NaN   response            NaN  47522.0   \n",
      "7        001      01  284.859375       NaN   stimulus            NaN  72924.0   \n",
      "8        001      01  287.757812       NaN   response            NaN  73666.0   \n",
      "9        001      01  289.960938       NaN   response            NaN  74230.0   \n",
      "\n",
      "  value  \n",
      "0   128  \n",
      "1     2  \n",
      "2     2  \n",
      "3   128  \n",
      "4   128  \n",
      "5     2  \n",
      "6     4  \n",
      "7   128  \n",
      "8     2  \n",
      "9     2  \n"
     ]
    }
   ],
   "source": [
    "# Reorder columns and check if duration and response_time columns are entirely NaN. Drop if so.\n",
    "master_df = master_df[['subject_id','session','onset','duration','trial_type','response_time','sample','value']]\n",
    "if master_df.duration.isnull().all():\n",
    "    master_df.drop(columns=['duration'])\n",
    "if master_df.response_time.isnull().all():\n",
    "    master_df.drop(columns=['response_time'])\n",
    "print(master_df.head(10))"
   ]
  },
  {
   "cell_type": "code",
   "execution_count": 58,
   "metadata": {},
   "outputs": [
    {
     "data": {
      "text/plain": [
       "Index(['subject_id', 'session', 'onset', 'duration', 'trial_type',\n",
       "       'response_time', 'sample', 'value'],\n",
       "      dtype='object')"
      ]
     },
     "execution_count": 58,
     "metadata": {},
     "output_type": "execute_result"
    }
   ],
   "source": [
    "master_df.columns"
   ]
  },
  {
   "cell_type": "code",
   "execution_count": null,
   "metadata": {},
   "outputs": [],
   "source": [
    "# value = button press code? stim = 128, response = 2, 4"
   ]
  },
  {
   "cell_type": "markdown",
   "metadata": {},
   "source": [
    "### Create database connection"
   ]
  },
  {
   "cell_type": "code",
   "execution_count": null,
   "metadata": {},
   "outputs": [],
   "source": [
    "connection_string = \"postgres:raw123@localhost:5432/eeg_db\"\n",
    "engine = create_engine(f'postgresql://{connection_string}')"
   ]
  },
  {
   "cell_type": "code",
   "execution_count": null,
   "metadata": {},
   "outputs": [],
   "source": [
    "# Confirm tables\n",
    "engine.table_names()"
   ]
  },
  {
   "cell_type": "markdown",
   "metadata": {},
   "source": [
    "### Load Database into PostGres"
   ]
  },
  {
   "cell_type": "code",
   "execution_count": null,
   "metadata": {},
   "outputs": [],
   "source": [
    "master_df.to_sql(name='master_eeg', con=engine, if_exists='append', index=True)"
   ]
  }
 ],
 "metadata": {
  "kernelspec": {
   "display_name": "Python 3",
   "language": "python",
   "name": "python3"
  },
  "language_info": {
   "codemirror_mode": {
    "name": "ipython",
    "version": 3
   },
   "file_extension": ".py",
   "mimetype": "text/x-python",
   "name": "python",
   "nbconvert_exporter": "python",
   "pygments_lexer": "ipython3",
   "version": "3.7.4"
  }
 },
 "nbformat": 4,
 "nbformat_minor": 2
}
